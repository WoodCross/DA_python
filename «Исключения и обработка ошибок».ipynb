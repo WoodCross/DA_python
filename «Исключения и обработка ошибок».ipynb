{
 "cells": [
  {
   "cell_type": "markdown",
   "metadata": {},
   "source": [
    "## Задание 1\n",
    "### Печатные газеты использовали свой формат дат для каждого выпуска. Для каждой газеты из списка напишите формат указанной даты для перевода в объект datetime:\n",
    "### The Moscow Times - Wednesday, October 2, 2002\n",
    "### The Guardian - Friday, 11.10.13\n",
    "### Daily News - Thursday, 18 August 1977"
   ]
  },
  {
   "cell_type": "code",
   "execution_count": 1,
   "metadata": {
    "tags": []
   },
   "outputs": [
    {
     "name": "stdout",
     "output_type": "stream",
     "text": [
      "2002-10-02 00:00:00\n",
      "2013-11-10 00:00:00\n",
      "1977-08-18 00:00:00\n"
     ]
    }
   ],
   "source": [
    "from datetime import date, timedelta\n",
    "from datetime import datetime\n",
    "\n",
    "date_dt1 = datetime.strptime('Wednesday, October 2, 2002', '%A, %B %d, %Y')\n",
    "date_dt2 = datetime.strptime('Friday, 11.10.13', '%A, %m.%d.%y')\n",
    "date_dt3 = datetime.strptime('Thursday, 18 August 1977', '%A, %d %B %Y')\n",
    "\n",
    "print(date_dt1)\n",
    "print(date_dt2)\n",
    "print(date_dt3)"
   ]
  },
  {
   "cell_type": "markdown",
   "metadata": {},
   "source": [
    "## Задание 2\n",
    "### Дан поток дат в формате YYYY-MM-DD, в которых встречаются некорректные значения:\n",
    "### stream = [‘2018-04-02’, ‘2018-02-29’, ‘2018-19-02’]\n",
    "\n",
    "### Напишите функцию, которая проверяет эти даты на корректность. Т. е. для каждой даты возвращает True (дата корректна) или False (некорректная дата)."
   ]
  },
  {
   "cell_type": "code",
   "execution_count": 3,
   "metadata": {},
   "outputs": [],
   "source": [
    "def is_valid_date(date):\n",
    "    year, month, day = date.split('-')\n",
    "    try:\n",
    "        datetime(int(year), int(month), int(day))\n",
    "    except ValueError:\n",
    "        return False\n",
    "    return True"
   ]
  },
  {
   "cell_type": "code",
   "execution_count": 4,
   "metadata": {
    "tags": []
   },
   "outputs": [
    {
     "name": "stdout",
     "output_type": "stream",
     "text": [
      "2018-04-02 True\n",
      "2018-02-29 False\n",
      "2018-19-02 False\n"
     ]
    }
   ],
   "source": [
    "stream = ['2018-04-02', '2018-02-29', '2018-19-02']\n",
    "for date in stream:\n",
    "    print(f'{date} {is_valid_date(date)}')"
   ]
  },
  {
   "cell_type": "markdown",
   "metadata": {},
   "source": [
    "## Задание 3\n",
    "### Напишите функцию date_range, которая возвращает список дат за период от start_date до end_date. Даты должны вводиться в формате YYYY-MM-DD. В случае неверного формата или при start_date > end_date должен возвращаться пустой список."
   ]
  },
  {
   "cell_type": "code",
   "execution_count": 5,
   "metadata": {},
   "outputs": [],
   "source": [
    "def date_range(start_date, end_date):\n",
    "    if not is_valid_date(start_date) or not is_valid_date(end_date) or start_date > end_date:\n",
    "        return []\n",
    "    sdate = datetime.strptime(start_date, '%Y-%m-%d')\n",
    "    edate = datetime.strptime(end_date, '%Y-%m-%d')\n",
    "    delta = edate - sdate\n",
    "    days = []\n",
    "    for i in range(delta.days + 1):\n",
    "        days.append(sdate + timedelta(days=i))\n",
    "    return days"
   ]
  },
  {
   "cell_type": "code",
   "execution_count": 6,
   "metadata": {
    "tags": []
   },
   "outputs": [
    {
     "name": "stdout",
     "output_type": "stream",
     "text": [
      "2008-08-15 00:00:00\n",
      "2008-08-16 00:00:00\n",
      "2008-08-17 00:00:00\n",
      "2008-08-18 00:00:00\n",
      "2008-08-19 00:00:00\n",
      "2008-08-20 00:00:00\n",
      "2008-08-21 00:00:00\n",
      "2008-08-22 00:00:00\n",
      "2008-08-23 00:00:00\n",
      "2008-08-24 00:00:00\n",
      "2008-08-25 00:00:00\n",
      "2008-08-26 00:00:00\n",
      "2008-08-27 00:00:00\n",
      "2008-08-28 00:00:00\n",
      "2008-08-29 00:00:00\n",
      "2008-08-30 00:00:00\n",
      "2008-08-31 00:00:00\n",
      "2008-09-01 00:00:00\n",
      "2008-09-02 00:00:00\n",
      "2008-09-03 00:00:00\n",
      "2008-09-04 00:00:00\n",
      "2008-09-05 00:00:00\n",
      "2008-09-06 00:00:00\n",
      "2008-09-07 00:00:00\n",
      "2008-09-08 00:00:00\n",
      "2008-09-09 00:00:00\n",
      "2008-09-10 00:00:00\n",
      "2008-09-11 00:00:00\n",
      "2008-09-12 00:00:00\n",
      "2008-09-13 00:00:00\n",
      "2008-09-14 00:00:00\n",
      "2008-09-15 00:00:00\n"
     ]
    }
   ],
   "source": [
    "for d in date_range('2008-08-15', '2008-09-15'):\n",
    "    print(d)"
   ]
  },
  {
   "cell_type": "code",
   "execution_count": 10,
   "metadata": {
    "tags": []
   },
   "outputs": [
    {
     "name": "stdout",
     "output_type": "stream",
     "text": [
      "2008-08-15 00:00:00\n"
     ]
    }
   ],
   "source": [
    "for d in date_range('2008-08-15', '2008-08-15'):\n",
    "    print(d)"
   ]
  },
  {
   "cell_type": "code",
   "execution_count": 11,
   "metadata": {},
   "outputs": [],
   "source": [
    "for d in date_range('2008-08-15', '2008-08-14'):\n",
    "    print(d)"
   ]
  },
  {
   "cell_type": "code",
   "execution_count": null,
   "metadata": {},
   "outputs": [],
   "source": []
  }
 ],
 "metadata": {
  "kernelspec": {
   "display_name": "Python 3",
   "language": "python",
   "name": "python3"
  },
  "language_info": {
   "codemirror_mode": {
    "name": "ipython",
    "version": 3
   },
   "file_extension": ".py",
   "mimetype": "text/x-python",
   "name": "python",
   "nbconvert_exporter": "python",
   "pygments_lexer": "ipython3",
   "version": "3.8.3"
  }
 },
 "nbformat": 4,
 "nbformat_minor": 2
}
