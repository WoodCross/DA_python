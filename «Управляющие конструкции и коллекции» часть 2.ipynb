{
 "cells": [
  {
   "cell_type": "markdown",
   "metadata": {},
   "source": [
    "Задание 1"
   ]
  },
  {
   "cell_type": "code",
   "execution_count": 72,
   "metadata": {},
   "outputs": [
    {
     "name": "stdout",
     "output_type": "stream",
     "text": [
      "{98, 35, 15, 213, 54, 119}\n"
     ]
    }
   ],
   "source": [
    "ids = {\n",
    "    'user1': [213, 213, 213, 15, 213],\n",
    "    'user2': [54, 54, 119, 119, 119],\n",
    "    'user3': [213, 98, 98, 35]\n",
    "}\n",
    "my_list = []\n",
    "for el in ids.values():\n",
    "    my_list.extend(el)\n",
    "print(set(my_list))"
   ]
  },
  {
   "cell_type": "markdown",
   "metadata": {},
   "source": [
    "Задание 2"
   ]
  },
  {
   "cell_type": "code",
   "execution_count": 136,
   "metadata": {},
   "outputs": [
    {
     "name": "stdout",
     "output_type": "stream",
     "text": [
      "поисковых запросов, содержащих 2 слов(а): 42.86%\n",
      "поисковых запросов, содержащих 3 слов(а): 57.14%\n"
     ]
    }
   ],
   "source": [
    "queries = [\n",
    "'смотреть сериалы онлайн',\n",
    "'новости спорта',\n",
    "'афиша кино',\n",
    "'курс доллара',\n",
    "'сериалы этим летом',\n",
    "'курс по питону',\n",
    "'сериалы про спорт',\n",
    "]\n",
    "out_string = 'поисковых запросов, содержащих {} слов(а): {}'\n",
    "two_words = 0\n",
    "three_words = 0\n",
    "for el in queries:\n",
    "    length = len(el.split(' '))\n",
    "    if length == 2:\n",
    "        two_words += 1\n",
    "    elif length == 3:\n",
    "        three_words += 1\n",
    "    else:\n",
    "        print ('non-conditional word given')\n",
    "total = two_words + three_words\n",
    "print(out_string.format(2, round((two_words*100.0)/total, 2))+'%')\n",
    "print(out_string.format(3, round((three_words*100.0)/total, 2))+'%')"
   ]
  },
  {
   "cell_type": "markdown",
   "metadata": {},
   "source": [
    "Задание 3"
   ]
  },
  {
   "cell_type": "code",
   "execution_count": 227,
   "metadata": {},
   "outputs": [
    {
     "name": "stdout",
     "output_type": "stream",
     "text": [
      "('vk', {'revenue': 103, 'cost': 98, 'ROI': 5.1})\n",
      "('yandex', {'revenue': 179, 'cost': 153, 'ROI': 16.99})\n",
      "('facebook', {'revenue': 103, 'cost': 110, 'ROI': -6.36})\n",
      "('adwords', {'revenue': 35, 'cost': 34, 'ROI': 2.94})\n",
      "('twitter', {'revenue': 11, 'cost': 24, 'ROI': -54.17})\n"
     ]
    }
   ],
   "source": [
    "results = {\n",
    "'vk': {'revenue': 103, 'cost': 98},\n",
    "'yandex': {'revenue': 179, 'cost': 153},\n",
    "'facebook': {'revenue': 103, 'cost': 110},\n",
    "'adwords': {'revenue': 35, 'cost': 34},\n",
    "'twitter': {'revenue': 11, 'cost': 24},\n",
    "}\n",
    "for k in results.items():\n",
    "    results1 = k[1]\n",
    "    results1['ROI'] = round(((results1['revenue']/results1['cost'] - 1) * 100), 2)\n",
    "    print(k)"
   ]
  },
  {
   "cell_type": "markdown",
   "metadata": {},
   "source": [
    "Задание 4"
   ]
  },
  {
   "cell_type": "code",
   "execution_count": 242,
   "metadata": {},
   "outputs": [
    {
     "name": "stdout",
     "output_type": "stream",
     "text": [
      "Максимальный объем продаж на рекламном канале: vk\n"
     ]
    }
   ],
   "source": [
    "stats = {\n",
    "'facebook': 55,\n",
    "'yandex': 115,\n",
    "'vk': 120,\n",
    "'google': 99,\n",
    "'email': 42,\n",
    "'ok': 98,\n",
    "}\n",
    "out_string = 'Максимальный объем продаж на рекламном канале: {}'\n",
    "max_v = max(list(stats.values()))\n",
    "for k, v in stats.items():\n",
    "    if v == max_v:\n",
    "        print(out_string.format(k))"
   ]
  }
 ],
 "metadata": {
  "kernelspec": {
   "display_name": "Python 3",
   "language": "python",
   "name": "python3"
  },
  "language_info": {
   "codemirror_mode": {
    "name": "ipython",
    "version": 3
   },
   "file_extension": ".py",
   "mimetype": "text/x-python",
   "name": "python",
   "nbconvert_exporter": "python",
   "pygments_lexer": "ipython3",
   "version": "3.8.3"
  }
 },
 "nbformat": 4,
 "nbformat_minor": 4
}
