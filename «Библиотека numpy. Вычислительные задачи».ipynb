{
 "cells": [
  {
   "cell_type": "markdown",
   "metadata": {},
   "source": [
    "Задание 1"
   ]
  },
  {
   "cell_type": "code",
   "execution_count": 9,
   "metadata": {},
   "outputs": [
    {
     "name": "stdout",
     "output_type": "stream",
     "text": [
      "Введите число: 5\n",
      "[4 3 2 1 0]\n"
     ]
    }
   ],
   "source": [
    "import numpy\n",
    "n = int(input('Введите число: '))\n",
    "NP = (numpy.arange(n))[::-1]\n",
    "print(NP)"
   ]
  },
  {
   "cell_type": "markdown",
   "metadata": {},
   "source": [
    "Задание 2"
   ]
  },
  {
   "cell_type": "code",
   "execution_count": 18,
   "metadata": {},
   "outputs": [
    {
     "name": "stdout",
     "output_type": "stream",
     "text": [
      "Введите число: 5\n",
      "[[4 0 0 0 0]\n",
      " [0 3 0 0 0]\n",
      " [0 0 2 0 0]\n",
      " [0 0 0 1 0]\n",
      " [0 0 0 0 0]]\n",
      "сумма: 10\n"
     ]
    }
   ],
   "source": [
    "import numpy\n",
    "n = int(input('Введите число: '))\n",
    "a = numpy.zeros((n, n), int)\n",
    "NP = (numpy.arange(n))[::-1]\n",
    "numpy.fill_diagonal(a, NP)\n",
    "result = sum(NP)\n",
    "print (a)\n",
    "print ('сумма: ' + str(result))"
   ]
  },
  {
   "cell_type": "markdown",
   "metadata": {},
   "source": [
    "Задание 3"
   ]
  },
  {
   "cell_type": "code",
   "execution_count": 24,
   "metadata": {},
   "outputs": [
    {
     "name": "stdout",
     "output_type": "stream",
     "text": [
      "X = 0.4666666666666668\n",
      "Y = 3.844444444444444\n",
      "Z = -5.555555555555555\n"
     ]
    }
   ],
   "source": [
    "import numpy\n",
    "x = numpy.array([[4, 2, 1], [1, 3, 0], [0, 5, 4]])\n",
    "y = numpy.array([4, 12, -3]) \n",
    "result = numpy.linalg.solve(x, y)\n",
    "print ('X = ' + str(result[0]))\n",
    "print ('Y = ' + str(result[1]))\n",
    "print ('Z = ' + str(result[2]))"
   ]
  },
  {
   "cell_type": "markdown",
   "metadata": {},
   "source": [
    "Задание 4"
   ]
  },
  {
   "cell_type": "code",
   "execution_count": 69,
   "metadata": {},
   "outputs": [
    {
     "name": "stdout",
     "output_type": "stream",
     "text": [
      "[1 1 2 1 0 0]\n"
     ]
    }
   ],
   "source": [
    "import numpy\n",
    "users_stats = numpy.array(\n",
    "    [\n",
    "        [2, 1, 0, 0, 0, 0],\n",
    "        [1, 1, 2, 1, 0, 0],\n",
    "        [2, 0, 1, 0, 0, 0],\n",
    "        [1, 1, 2, 1, 0, 1],\n",
    "        [0, 0, 1, 2, 0, 0],\n",
    "        [0, 0, 0, 0, 0, 5],\n",
    "        [1, 0, 0, 0, 0, 0],\n",
    "        [0, 1, 1, 0, 0, 0],\n",
    "        [0, 0, 0, 1, 1, 3],\n",
    "        [1, 0, 0, 2, 1, 4]\n",
    "    ], \n",
    "    numpy.int32\n",
    ")\n",
    "next_user_stats = numpy.array([0, 1, 2, 0, 0, 0])\n",
    "result = users_stats[numpy.argmax(numpy.dot(next_user_stats, users_stats.T)/(numpy.linalg.norm(users_stats)*numpy.linalg.norm(next_user_stats)))]\n",
    "print (result)"
   ]
  },
  {
   "cell_type": "code",
   "execution_count": null,
   "metadata": {},
   "outputs": [],
   "source": []
  }
 ],
 "metadata": {
  "kernelspec": {
   "display_name": "Python 3",
   "language": "python",
   "name": "python3"
  },
  "language_info": {
   "codemirror_mode": {
    "name": "ipython",
    "version": 3
   },
   "file_extension": ".py",
   "mimetype": "text/x-python",
   "name": "python",
   "nbconvert_exporter": "python",
   "pygments_lexer": "ipython3",
   "version": "3.8.3"
  }
 },
 "nbformat": 4,
 "nbformat_minor": 4
}
