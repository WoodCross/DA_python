{
 "cells": [
  {
   "cell_type": "code",
   "execution_count": 6,
   "metadata": {
    "tags": []
   },
   "outputs": [],
   "source": [
    "### Глобальные переменные\n",
    "\n",
    "documents = [\n",
    "    {'type': 'passport', 'number': '2207 876234', 'name': 'Василий Гупкин'},\n",
    "    {'type': 'invoice', 'number': '11-2', 'name': 'Геннадий Покемонов'},\n",
    "    {'type': 'insurance', 'number': '10006', 'name': 'Аристарх Павлов'}\n",
    "]\n",
    "\n",
    "directories = {\n",
    "    '1': ['2207 876234', '11-2'],\n",
    "    '2': ['10006'],\n",
    "    '3': []\n",
    "}"
   ]
  },
  {
   "cell_type": "code",
   "execution_count": 7,
   "metadata": {},
   "outputs": [],
   "source": [
    "### Общие функции ввода данных\n",
    "\n",
    "def input_number():\n",
    "    return input('Введите номер документа:\\n')\n",
    "\n",
    "\n",
    "def input_shelf():\n",
    "    return input('Введите номер полки:\\n')"
   ]
  },
  {
   "cell_type": "code",
   "execution_count": 8,
   "metadata": {},
   "outputs": [],
   "source": [
    "### Общие функции вывода результатов\n",
    "\n",
    "def no_document_found():\n",
    "    print('Документ не найден в базе')\n",
    "\n",
    "def shelfs_info():\n",
    "    return f'Текущий перечень полок: {\", \".join(directories.keys())}.'"
   ]
  },
  {
   "cell_type": "code",
   "execution_count": 9,
   "metadata": {},
   "outputs": [],
   "source": [
    "### Общие функции получения данных из глобальных переменных\n",
    "\n",
    "def get_document_by_field_value(field, value):\n",
    "    return next((doc for doc in documents if doc[field] == value), None)\n",
    "\n",
    "def get_shelf_by_document_number(number):\n",
    "    for dir, docs in directories.items():\n",
    "        res = next((doc for doc in docs if doc == number), None)\n",
    "        if (res):\n",
    "            return dir\n",
    "    return None"
   ]
  },
  {
   "cell_type": "code",
   "execution_count": 11,
   "metadata": {},
   "outputs": [],
   "source": [
    "### Пункт 1. Пользователь по команде \"p\" может узнать владельца документа по его номеру\n",
    "\n",
    "def get_author_by_number(number):\n",
    "    res = get_document_by_field_value(\"number\", number)\n",
    "    if (res):\n",
    "        print(f'Владелец документа: {res[\"name\"]}')\n",
    "    else:\n",
    "        no_document_found()"
   ]
  },
  {
   "cell_type": "code",
   "execution_count": 12,
   "metadata": {
    "tags": []
   },
   "outputs": [
    {
     "name": "stdout",
     "output_type": "stream",
     "text": [
      "Владелец документа: Аристарх Павлов\n"
     ]
    }
   ],
   "source": [
    "get_author_by_number('10006')"
   ]
  },
  {
   "cell_type": "code",
   "execution_count": 13,
   "metadata": {
    "tags": []
   },
   "outputs": [
    {
     "name": "stdout",
     "output_type": "stream",
     "text": [
      "Документ не найден в базе\n"
     ]
    }
   ],
   "source": [
    "get_author_by_number('12345')"
   ]
  },
  {
   "cell_type": "code",
   "execution_count": 14,
   "metadata": {},
   "outputs": [],
   "source": [
    "### Пункт 2. Пользователь по команде \"s\" может по номеру документа узнать на какой полке он хранится\n",
    "\n",
    "def get_shelf_by_number(number):\n",
    "    res = get_shelf_by_document_number(number)\n",
    "    if (res):\n",
    "        print(f'Документ хранится на полке: {res}')\n",
    "    else:\n",
    "        no_document_found()"
   ]
  },
  {
   "cell_type": "code",
   "execution_count": 15,
   "metadata": {
    "tags": []
   },
   "outputs": [
    {
     "name": "stdout",
     "output_type": "stream",
     "text": [
      "Документ хранится на полке: 2\n"
     ]
    }
   ],
   "source": [
    "get_shelf_by_number('10006')"
   ]
  },
  {
   "cell_type": "code",
   "execution_count": 16,
   "metadata": {
    "tags": []
   },
   "outputs": [
    {
     "name": "stdout",
     "output_type": "stream",
     "text": [
      "Документ не найден в базе\n"
     ]
    }
   ],
   "source": [
    "get_shelf_by_number('12345')"
   ]
  },
  {
   "cell_type": "code",
   "execution_count": 17,
   "metadata": {},
   "outputs": [],
   "source": [
    "### Пункт 3. Пользователь по команде \"l\" может увидеть полную информацию по всем документам\n",
    "\n",
    "def list_all():\n",
    "    for doc in documents:\n",
    "        print(f'№: {doc[\"number\"]}, тип: {doc[\"type\"]}, владелец: {doc[\"name\"]}, полка хранения: {get_shelf_by_document_number(doc[\"number\"])}')"
   ]
  },
  {
   "cell_type": "code",
   "execution_count": 18,
   "metadata": {
    "tags": []
   },
   "outputs": [
    {
     "name": "stdout",
     "output_type": "stream",
     "text": [
      "№: 2207 876234, тип: passport, владелец: Василий Гупкин, полка хранения: 1\n",
      "№: 11-2, тип: invoice, владелец: Геннадий Покемонов, полка хранения: 1\n",
      "№: 10006, тип: insurance, владелец: Аристарх Павлов, полка хранения: 2\n"
     ]
    }
   ],
   "source": [
    "list_all()"
   ]
  },
  {
   "cell_type": "code",
   "execution_count": 19,
   "metadata": {},
   "outputs": [],
   "source": [
    "### Пункт 4. Пользователь по команде \"ads\" может добавить новую полку\n",
    "\n",
    "def add_new_shelf(sh):\n",
    "    if sh in directories:\n",
    "        print(f'Такая полка уже существует. {shelfs_info()}')\n",
    "    else:\n",
    "        directories[sh] = []\n",
    "        print(f'Полка добавлена. {shelfs_info()}')"
   ]
  },
  {
   "cell_type": "code",
   "execution_count": 20,
   "metadata": {
    "tags": []
   },
   "outputs": [
    {
     "name": "stdout",
     "output_type": "stream",
     "text": [
      "Полка добавлена. Текущий перечень полок: 1, 2, 3, 10.\n"
     ]
    }
   ],
   "source": [
    "add_new_shelf('10')"
   ]
  },
  {
   "cell_type": "code",
   "execution_count": 21,
   "metadata": {
    "tags": []
   },
   "outputs": [
    {
     "name": "stdout",
     "output_type": "stream",
     "text": [
      "Такая полка уже существует. Текущий перечень полок: 1, 2, 3, 10.\n"
     ]
    }
   ],
   "source": [
    "add_new_shelf('1')"
   ]
  },
  {
   "cell_type": "code",
   "execution_count": 22,
   "metadata": {},
   "outputs": [],
   "source": [
    "### Пункт 5. Пользователь по команде \"ds\" может удалить существующую полку из данных (только если она пустая)\n",
    "\n",
    "def remove_shelf(sh):\n",
    "    if sh in directories:\n",
    "        if len(directories[sh]):\n",
    "            print(\n",
    "                f'На полке есть документа, удалите их перед удалением полки. {shelfs_info()}')\n",
    "        else:\n",
    "            directories.pop(sh)\n",
    "            print(f'Полка удалена. {shelfs_info()}')\n",
    "    else:\n",
    "        print(f'Такой полки не существует. {shelfs_info()}')"
   ]
  },
  {
   "cell_type": "code",
   "execution_count": 23,
   "metadata": {
    "tags": []
   },
   "outputs": [
    {
     "name": "stdout",
     "output_type": "stream",
     "text": [
      "Полка удалена. Текущий перечень полок: 1, 2, 10.\n"
     ]
    }
   ],
   "source": [
    "remove_shelf('3')"
   ]
  },
  {
   "cell_type": "code",
   "execution_count": 24,
   "metadata": {
    "tags": []
   },
   "outputs": [
    {
     "name": "stdout",
     "output_type": "stream",
     "text": [
      "На полке есть документа, удалите их перед удалением полки. Текущий перечень полок: 1, 2, 10.\n"
     ]
    }
   ],
   "source": [
    "remove_shelf('1')"
   ]
  },
  {
   "cell_type": "code",
   "execution_count": 25,
   "metadata": {
    "tags": []
   },
   "outputs": [
    {
     "name": "stdout",
     "output_type": "stream",
     "text": [
      "Такой полки не существует. Текущий перечень полок: 1, 2, 10.\n"
     ]
    }
   ],
   "source": [
    "remove_shelf('4')"
   ]
  },
  {
   "cell_type": "code",
   "execution_count": 26,
   "metadata": {},
   "outputs": [],
   "source": [
    "### Реализация main()\n",
    "\n",
    "def main():\n",
    "    choice = ''\n",
    "\n",
    "    while choice != 'q':\n",
    "        choice = input('Введите команду:\\n')\n",
    "\n",
    "        if choice == 'p':\n",
    "            get_author_by_number(input_number())\n",
    "        elif choice == 's':\n",
    "            get_shelf_by_number(input_number())\n",
    "        elif choice == 'l':\n",
    "            list_all()\n",
    "        elif choice == 'ads':\n",
    "            add_new_shelf(input_shelf())\n",
    "        elif choice == 'ds':\n",
    "            remove_shelf(input_shelf())"
   ]
  },
  {
   "cell_type": "code",
   "execution_count": null,
   "metadata": {
    "tags": []
   },
   "outputs": [
    {
     "name": "stdout",
     "output_type": "stream",
     "text": [
      "Введите команду:\n",
      "p\n",
      "Введите номер документа:\n",
      "10006\n",
      "Владелец документа: Аристарх Павлов\n"
     ]
    }
   ],
   "source": [
    "### Вызов main()\n",
    "\n",
    "main()"
   ]
  }
 ],
 "metadata": {
  "kernelspec": {
   "display_name": "Python 3",
   "language": "python",
   "name": "python3"
  },
  "language_info": {
   "codemirror_mode": {
    "name": "ipython",
    "version": 3
   },
   "file_extension": ".py",
   "mimetype": "text/x-python",
   "name": "python",
   "nbconvert_exporter": "python",
   "pygments_lexer": "ipython3",
   "version": "3.8.3"
  }
 },
 "nbformat": 4,
 "nbformat_minor": 2
}
