{
 "cells": [
  {
   "cell_type": "markdown",
   "metadata": {},
   "source": [
    "Задание 1"
   ]
  },
  {
   "cell_type": "code",
   "execution_count": 44,
   "metadata": {},
   "outputs": [
    {
     "data": {
      "text/plain": [
       "Shawshank Redemption, The (1994)    153\n",
       "Name: title, dtype: int64"
      ]
     },
     "execution_count": 44,
     "metadata": {},
     "output_type": "execute_result"
    }
   ],
   "source": [
    "import pandas as pd\n",
    "movies = pd.read_csv('WWmovies.csv')\n",
    "rating = pd.read_csv('WWratings.csv')\n",
    "#movies.head()\n",
    "#rating.head()\n",
    "del movies[\"genres\"]\n",
    "del rating[\"userId\"]\n",
    "del rating[\"timestamp\"]\n",
    "full = pd.merge(movies, rating, on=['movieId'])\n",
    "full = full.loc[full['rating'] == 5.0]\n",
    "full['title'].value_counts().head(1)\n"
   ]
  },
  {
   "cell_type": "markdown",
   "metadata": {},
   "source": [
    "Задание 2"
   ]
  },
  {
   "cell_type": "code",
   "execution_count": 57,
   "metadata": {},
   "outputs": [
    {
     "data": {
      "text/plain": [
       "240580.0"
      ]
     },
     "execution_count": 57,
     "metadata": {},
     "output_type": "execute_result"
    }
   ],
   "source": [
    "import pandas as pd\n",
    "power = pd.read_csv('power.csv')\n",
    "power = power[ (power['country']=='Latvia') | (power['country']=='Lithuania')| (power['country']=='Estonia') ]\n",
    "power = power[ (power['category']==4) | (power['category']==12)| (power['category']==21) ]\n",
    "power = power[ (power['year'] >= 2005) & (power['year'] <= 2010) ]\n",
    "power = power[ (power['quantity'] >= 0) ]\n",
    "power.head()\n",
    "power['quantity'].sum()"
   ]
  },
  {
   "cell_type": "markdown",
   "metadata": {},
   "source": [
    "Задание 3"
   ]
  },
  {
   "cell_type": "code",
   "execution_count": 90,
   "metadata": {
    "scrolled": true
   },
   "outputs": [
    {
     "name": "stdout",
     "output_type": "stream",
     "text": [
      "[    Year     Office    GOP    DFL Others\n",
      "0   2018   Governor  42.4%  53.9%   3.7%\n",
      "1   2018    Senator  36.2%  60.3%   3.4%\n",
      "2   2018    Senator  42.4%  53.0%   4.6%\n",
      "3   2016  President  44.9%  46.4%   8.6%\n",
      "4   2014   Governor  44.5%  50.1%   5.4%\n",
      "5   2014    Senator  42.9%  53.2%   3.9%\n",
      "6   2012  President  45.1%  52.8%   2.1%\n",
      "7   2012    Senator  30.6%  65.3%   4.1%\n",
      "8   2010   Governor  43.2%  43.7%  13.1%\n",
      "9   2008  President  43.8%  54.1%   2.1%\n",
      "10  2008    Senator  42.0%  42.0%  16.0%\n",
      "11  2006   Governor  46.7%  45.7%   7.6%\n",
      "12  2006    Senator  37.9%  58.1%   4.0%\n",
      "13  2004  President  47.6%  51.1%   1.3%\n",
      "14  2002   Governor  44.4%  33.5%  22.1%\n",
      "15  2002    Senator  49.5%  47.3%   1.0%\n",
      "16  2000  President  45.5%  47.9%   6.6%\n",
      "17  2000    Senator  43.3%  48.8%   7.9%\n",
      "18  1998   Governor  34.3%  28.1%  37.6%\n",
      "19  1996  President  35.0%  51.1%  13.9%\n",
      "20  1996    Senator  41.3%  50.3%   8.4%\n",
      "21  1994   Governor  63.3%  34.1%   2.6%\n",
      "22  1994    Senator  49.1%  44.1%   6.8%\n",
      "23  1992  President  31.9%  43.5%  24.6%]\n"
     ]
    }
   ],
   "source": [
    "import pandas as pd\n",
    "page_url = 'https://en.wikipedia.org/wiki/Minnesota'\n",
    "page = pd.read_html(page_url, match = 'Election results from statewide races')\n",
    "print(page)"
   ]
  },
  {
   "cell_type": "code",
   "execution_count": null,
   "metadata": {},
   "outputs": [],
   "source": []
  }
 ],
 "metadata": {
  "kernelspec": {
   "display_name": "Python 3",
   "language": "python",
   "name": "python3"
  },
  "language_info": {
   "codemirror_mode": {
    "name": "ipython",
    "version": 3
   },
   "file_extension": ".py",
   "mimetype": "text/x-python",
   "name": "python",
   "nbconvert_exporter": "python",
   "pygments_lexer": "ipython3",
   "version": "3.8.3"
  }
 },
 "nbformat": 4,
 "nbformat_minor": 4
}
