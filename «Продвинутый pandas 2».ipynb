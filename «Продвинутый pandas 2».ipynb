{
 "cells": [
  {
   "cell_type": "code",
   "execution_count": null,
   "metadata": {},
   "outputs": [],
   "source": [
    "## Задание 1\n",
    "### Используйте файл с оценками фильмов ml-latest-small/ratings.csv. Посчитайте среднее время жизни пользователей, которые выставили более 100 оценок. Под временем жизни понимается разница между максимальным и минимальным значением столбца timestamp для данного значения userId."
   ]
  },
  {
   "cell_type": "code",
   "execution_count": null,
   "metadata": {},
   "outputs": [],
   "source": [
    "import pandas as pd\n",
    "import numpy as np\n",
    "\n",
    "df = pd.read_csv('ratings.csv')\n",
    "df.head()"
   ]
  },
  {
   "cell_type": "code",
   "execution_count": null,
   "metadata": {},
   "outputs": [],
   "source": [
    "# Подсчитаем число оценок\n",
    "df['userId'].value_counts()"
   ]
  },
  {
   "cell_type": "code",
   "execution_count": null,
   "metadata": {},
   "outputs": [],
   "source": [
    "# Сформируем фильтр из более 100 оценок пользователя\n",
    "df['userId'].value_counts() > 100"
   ]
  },
  {
   "cell_type": "code",
   "execution_count": null,
   "metadata": {},
   "outputs": [],
   "source": [
    "# Получим значения userId, для которых количество оценок более 100\n",
    "df['userId'].value_counts()[df['userId'].value_counts() > 100]"
   ]
  },
  {
   "cell_type": "code",
   "execution_count": null,
   "metadata": {},
   "outputs": [],
   "source": [
    "# Выведем все строки userID и timestamp, где у пользователя более 100 оценок\n",
    "filtered = df[df['userId'].isin(df['userId'].value_counts()[\n",
    "    df['userId'].value_counts() > 100].index)][['userId', 'timestamp']]\n",
    "filtered"
   ]
  },
  {
   "cell_type": "code",
   "execution_count": null,
   "metadata": {},
   "outputs": [],
   "source": [
    "# Выведем разницу максимального и минимального значения timestamp\n",
    "filtered.groupby('userId')['timestamp'].agg(np.ptp)"
   ]
  },
  {
   "cell_type": "code",
   "execution_count": null,
   "metadata": {},
   "outputs": [],
   "source": [
    "# Среднее значение жизни пользователей, выставивших более 100 оценок\n",
    "filtered.groupby('userId')['timestamp'].agg(np.ptp).mean()"
   ]
  },
  {
   "cell_type": "code",
   "execution_count": null,
   "metadata": {},
   "outputs": [],
   "source": [
    "## Задание 2\n",
    "### Дана статистика услуг перевозок клиентов компании по типам (см. файл с кодом занятия). Необходимо сформировать две таблицы:\n",
    "### - таблицу с тремя типами выручки для каждого client_id без указания адреса клиента\n",
    "### - аналогичную таблицу по типам выручки с указанием адреса клиента\n",
    "### Обратите внимание, что в процессе объединения таблиц данные не должны теряться."
   ]
  },
  {
   "cell_type": "code",
   "execution_count": null,
   "metadata": {},
   "outputs": [],
   "source": [
    "# Входные данные\n",
    "rzd = pd.DataFrame(\n",
    "    {\n",
    "        'client_id': [111, 112, 113, 114, 115],\n",
    "        'rzd_revenue': [1093, 2810, 10283, 5774, 981]\n",
    "    }\n",
    ")\n",
    "\n",
    "auto = pd.DataFrame(\n",
    "    {\n",
    "        'client_id': [113, 114, 115, 116, 117],\n",
    "        'auto_revenue': [57483, 83, 912, 4834, 98]\n",
    "    }\n",
    ")\n",
    "\n",
    "air = pd.DataFrame(\n",
    "    {\n",
    "        'client_id': [115, 116, 117, 118],\n",
    "        'air_revenue': [81, 4, 13, 173]\n",
    "    }\n",
    ")\n",
    "\n",
    "client_base = pd.DataFrame(\n",
    "    {\n",
    "        'client_id': [111, 112, 113, 114, 115, 116, 117, 118],\n",
    "        'address': ['Комсомольская 4', 'Энтузиастов 8а', 'Левобережная 1а', 'Мира 14', 'ЗЖБИиДК 1',\n",
    "                    'Строителей 18', 'Панфиловская 33', 'Мастеркова 4']\n",
    "    }\n",
    ")"
   ]
  },
  {
   "cell_type": "code",
   "execution_count": null,
   "metadata": {},
   "outputs": [],
   "source": [
    "client_base.client_id.to_frame().merge(rzd, how='outer').merge(\n",
    "    auto, how='outer').merge(air, how='outer').fillna(0)"
   ]
  },
  {
   "cell_type": "code",
   "execution_count": null,
   "metadata": {},
   "outputs": [],
   "source": [
    "client_base.merge(rzd, how='outer').merge(\n",
    "    auto, how='outer').merge(air, how='outer').fillna(0)"
   ]
  },
  {
   "cell_type": "code",
   "execution_count": null,
   "metadata": {},
   "outputs": [],
   "source": [
    "## Задание 3\n",
    "### В задаче сквозной аналитики вам предоставили данные по местоположению пользователей. Т.е. для каждого user_id известна последовательность координат (широта/долгота), когда они требовались приложению для полноценной работы. Как бы вы добавили эти сведения в таблицу визитов и покупок? Для составления ответа можно использовать вопросы:\n",
    "\n",
    "### - У каждого пользователя известен набор координат. А для связывания с визитом или фактом покупки скорее всего потребуются одно-два числа. Как их получить?\n",
    "### - Наборы координат одного и того же пользователя могут быть значительно удалены друг от друга. Как это отразится на вопросе расчета пункта 1?\n",
    "### - Какие дополнительные признаки можно получить из координат? Ведь это просто числа, которые сами по себе мало что дают."
   ]
  },
  {
   "cell_type": "code",
   "execution_count": null,
   "metadata": {},
   "outputs": [],
   "source": [
    "# Для добавления координат в таблицу визитов и покупок потребуются уникальные идентификаторы посещения магазина и пробитого чека, чтобы иметь возможность различать входы из разных мест и факты покупок/их отсутствие. Можно связать покупки и посещения отдельной таблицей, чтобы избежать использование лишней памяти на поля NaN при отсутствии покупок."
   ]
  },
  {
   "cell_type": "code",
   "execution_count": null,
   "metadata": {},
   "outputs": [],
   "source": [
    "coordinates = pd.DataFrame(\n",
    "    {\n",
    "        'user_id': [1, 2, 3, 4, 5],\n",
    "        'coordinates': ['36.123456 57.123456', '36.123666 57.123456', '36.123456 57.123673', '36.123456 57.456123', '36.456123 57.123789'],\n",
    "        'visit_id': [101, 301, 305, 896, 896],\n",
    "        'bill_id': [np.nan, 6801, 2312, np.nan, np.nan],\n",
    "    }\n",
    ")\n",
    "\n",
    "coordinates"
   ]
  },
  {
   "cell_type": "code",
   "execution_count": null,
   "metadata": {},
   "outputs": [],
   "source": [
    "# Из координат можно получить данные об активности пользователя и его предпочтениях в данной области, сферу интересов на основе соответствия координат и находящихся по ним объектов."
   ]
  }
 ],
 "metadata": {
  "kernelspec": {
   "name": "Python 3.8.6 64-bit",
   "display_name": "Python 3.8.6 64-bit",
   "metadata": {
    "interpreter": {
     "hash": "1ee38ef4a5a9feb55287fd749643f13d043cb0a7addaab2a9c224cbe137c0062"
    }
   }
  },
  "language_info": {
   "codemirror_mode": {
    "name": "ipython",
    "version": 3
   },
   "file_extension": ".py",
   "mimetype": "text/x-python",
   "name": "python",
   "nbconvert_exporter": "python",
   "pygments_lexer": "ipython3",
   "version": "3.8.6-final"
  }
 },
 "nbformat": 4,
 "nbformat_minor": 2
}