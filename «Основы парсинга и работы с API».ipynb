{
 "metadata": {
  "language_info": {
   "codemirror_mode": {
    "name": "ipython",
    "version": 3
   },
   "file_extension": ".py",
   "mimetype": "text/x-python",
   "name": "python",
   "nbconvert_exporter": "python",
   "pygments_lexer": "ipython3",
   "version": "3.8.6-final"
  },
  "orig_nbformat": 2,
  "kernelspec": {
   "name": "Python 3.8.6 64-bit",
   "display_name": "Python 3.8.6 64-bit",
   "metadata": {
    "interpreter": {
     "hash": "1ee38ef4a5a9feb55287fd749643f13d043cb0a7addaab2a9c224cbe137c0062"
    }
   }
  }
 },
 "nbformat": 4,
 "nbformat_minor": 2,
 "cells": [
  {
   "cell_type": "code",
   "execution_count": 17,
   "metadata": {},
   "outputs": [],
   "source": [
    "## Задание 1\n",
    "### Будем парсить страницу со свежими новостям на habr.com/ru/all/.\n",
    "### Вам необходимо собирать только те статьи, в которых встречается хотя бы одно требуемое ключевое слово. Эти слова определяем в начале кода в переменной, например:\n",
    "### KEYWORDS = ['python', 'парсинг']\n",
    "### Поиск вести по всей доступной preview-информации (это информация, доступная непосредственно с текущей страницы).\n",
    "### В итоге должен формироваться датафрейм вида: <дата> - <заголовок> - <ссылка>"
   ]
  },
  {
   "cell_type": "code",
   "execution_count": 18,
   "metadata": {},
   "outputs": [],
   "source": [
    "import requests\n",
    "import pandas as pd\n",
    "from bs4 import BeautifulSoup\n",
    "\n",
    "KEYWORDS = set(['python', 'парсинг', 'факторизация', 'месяц'])\n",
    "\n",
    "req = requests.get('https://habr.com/ru/all/')\n",
    "soup = BeautifulSoup(req.text, 'html.parser')\n",
    "\n",
    "posts = soup.find_all('article', class_='post')"
   ]
  },
  {
   "cell_type": "code",
   "execution_count": 19,
   "metadata": {},
   "outputs": [],
   "source": [
    "def get_data_from_post(post, check, df):\n",
    "    text = set(check.lower().split())\n",
    "    if bool(text.intersection(KEYWORDS)):\n",
    "        date_element = post.find('span', class_='post__time')\n",
    "        title_element = post.find('a', class_='post__title_link')\n",
    "        df = df.append({'date': date_element.text, 'title': title_element.text,\n",
    "                        'link': title_element.attrs.get('href')}, ignore_index=True)\n",
    "        return True, df\n",
    "    return False, None"
   ]
  },
  {
   "cell_type": "code",
   "execution_count": 20,
   "metadata": {},
   "outputs": [
    {
     "output_type": "execute_result",
     "data": {
      "text/plain": [
       "              date                                              title  \\\n",
       "0  сегодня в 00:04  Маркировка остатков немаркированных сигарет. И...   \n",
       "1    вчера в 18:26  Настройка синхронизации google calendar с web ...   \n",
       "2    вчера в 18:11  Факторизация чисел и сумма неизвестных делител...   \n",
       "\n",
       "                               link  \n",
       "0  https://habr.com/ru/post/525652/  \n",
       "1  https://habr.com/ru/post/525680/  \n",
       "2  https://habr.com/ru/post/524798/  "
      ],
      "text/html": "<div>\n<style scoped>\n    .dataframe tbody tr th:only-of-type {\n        vertical-align: middle;\n    }\n\n    .dataframe tbody tr th {\n        vertical-align: top;\n    }\n\n    .dataframe thead th {\n        text-align: right;\n    }\n</style>\n<table border=\"1\" class=\"dataframe\">\n  <thead>\n    <tr style=\"text-align: right;\">\n      <th></th>\n      <th>date</th>\n      <th>title</th>\n      <th>link</th>\n    </tr>\n  </thead>\n  <tbody>\n    <tr>\n      <th>0</th>\n      <td>сегодня в 00:04</td>\n      <td>Маркировка остатков немаркированных сигарет. И...</td>\n      <td>https://habr.com/ru/post/525652/</td>\n    </tr>\n    <tr>\n      <th>1</th>\n      <td>вчера в 18:26</td>\n      <td>Настройка синхронизации google calendar с web ...</td>\n      <td>https://habr.com/ru/post/525680/</td>\n    </tr>\n    <tr>\n      <th>2</th>\n      <td>вчера в 18:11</td>\n      <td>Факторизация чисел и сумма неизвестных делител...</td>\n      <td>https://habr.com/ru/post/524798/</td>\n    </tr>\n  </tbody>\n</table>\n</div>"
     },
     "metadata": {},
     "execution_count": 20
    }
   ],
   "source": [
    "df = pd.DataFrame(columns=['date', 'title', 'link'])\n",
    "for post in posts:\n",
    "    post_id = post.parent.attrs.get('id')\n",
    "    if not post_id:\n",
    "        continue\n",
    "    post_id = int(post_id.split('_')[-1])\n",
    "    hubs = post.find_all('a', class_='hub-link')\n",
    "    for hub in hubs: # поиск по тегам\n",
    "        rc, res = get_data_from_post(post, hub.text, df)\n",
    "        if rc:\n",
    "            df = res\n",
    "            continue\n",
    "    title = post.find('a', class_='post__title_link') # поиск по имени статьи\n",
    "    rc, res = get_data_from_post(post, title.text, df)\n",
    "    if rc:\n",
    "        df = res\n",
    "        continue\n",
    "    text = post.find('div', class_='post__text') # поиск по превью статьи\n",
    "    rc, res = get_data_from_post(post, text.text, df)\n",
    "    if rc:\n",
    "        df = res\n",
    "        continue\n",
    "df"
   ]
  },
  {
   "cell_type": "code",
   "execution_count": 21,
   "metadata": {},
   "outputs": [],
   "source": [
    "## Задание 2\n",
    "### Написать скрипт, который будет проверять список e-mail адресов на утечку при помощи сервиса Avast Hack Ckeck. Список email-ов задаем переменной в начале кода:\n",
    "### EMAIL = [xxx@x.ru, yyy@y.com]\n",
    "### В итоге должен формироваться датафрейм со столбцами: < почта > - < дата утечки > - < источник утечки > - < описание утечки >\n",
    "### Подсказка: сервис работает при помощи \"скрытого\" API. Внимательно изучите post-запросы."
   ]
  },
  {
   "cell_type": "code",
   "execution_count": 22,
   "metadata": {},
   "outputs": [
    {
     "output_type": "execute_result",
     "data": {
      "text/plain": [
       "             email                  date                    origin  \\\n",
       "0   lol@rambler.ru  2019-07-25T00:00:00Z            worldofwar.net   \n",
       "1   lol@rambler.ru  2020-07-23T00:00:00Z               wattpad.com   \n",
       "2   lol@rambler.ru  2018-08-24T00:00:00Z    forums.funny-games.biz   \n",
       "3   lol@rambler.ru  2019-10-17T00:00:00Z                 zynga.com   \n",
       "4   lol@rambler.ru  2020-04-09T00:00:00Z                 vkmix.com   \n",
       "5      lol@mail.ru  2019-03-20T00:00:00Z              bookmate.com   \n",
       "6      lol@mail.ru  2019-03-20T00:00:00Z                roll20.net   \n",
       "7      lol@mail.ru  2020-08-27T00:00:00Z                plibber.ru   \n",
       "8      lol@mail.ru  2019-07-25T00:00:00Z            worldofwar.net   \n",
       "9      lol@mail.ru  2020-05-28T00:00:00Z                stalker.so   \n",
       "10     lol@mail.ru  2019-10-10T00:00:00Z                ozonemc.ru   \n",
       "11     lol@mail.ru  2019-03-07T00:00:00Z              dubsmash.com   \n",
       "12     lol@mail.ru  2019-08-08T00:00:00Z               borealis.su   \n",
       "13     lol@mail.ru  2019-11-14T00:00:00Z                toondo.com   \n",
       "14     lol@mail.ru  2020-07-23T00:00:00Z               wattpad.com   \n",
       "15     lol@mail.ru  2020-07-02T00:00:00Z   forums.freegame2017.com   \n",
       "16     lol@mail.ru  2019-05-16T00:00:00Z                 shein.com   \n",
       "17     lol@mail.ru  2019-02-28T00:00:00Z                  8fit.com   \n",
       "18     lol@mail.ru  2019-10-17T00:00:00Z                omgpop.com   \n",
       "19     lol@mail.ru  2019-09-12T00:00:00Z                 tonnel.ru   \n",
       "20     lol@mail.ru  2019-06-13T00:00:00Z                 canva.com   \n",
       "21     lol@mail.ru  2020-02-06T00:00:00Z        cityofvillains.com   \n",
       "22     lol@mail.ru  2020-08-06T00:00:00Z               havenly.com   \n",
       "23     lol@mail.ru  2019-08-08T00:00:00Z               firstvds.ru   \n",
       "24     lol@mail.ru  2020-05-21T00:00:00Z  www.joymax.com/silkroad/   \n",
       "25     lol@mail.ru  2020-01-03T00:00:00Z                 rbx.rocks   \n",
       "26     lol@mail.ru  2019-10-17T00:00:00Z                 zynga.com   \n",
       "27     lol@mail.ru  2020-06-25T00:00:00Z                      n/a/   \n",
       "28     lol@mail.ru  2020-01-16T00:00:00Z              cristalix.pe   \n",
       "29     lol@mail.ru  2020-01-16T00:00:00Z              proshkolu.ru   \n",
       "30     lol@mail.ru  2020-01-16T00:00:00Z                gogames.me   \n",
       "31     lol@mail.ru  2020-04-30T00:00:00Z                  payad.me   \n",
       "32     lol@mail.ru  2020-07-16T00:00:00Z         synergyregions.ru   \n",
       "33     lol@mail.ru  2020-04-09T00:00:00Z                 vkmix.com   \n",
       "34     lol@mail.ru  2020-05-28T00:00:00Z               mathway.com   \n",
       "35     lol@mail.ru  2019-03-14T00:00:00Z          jobandtalent.com   \n",
       "36     lol@mail.ru  2020-07-16T00:00:00Z                  ongab.ru   \n",
       "37     lol@mail.ru  2020-08-27T00:00:00Z               turistov.ru   \n",
       "38     lol@mail.ru  2019-02-28T00:00:00Z                 500px.com   \n",
       "39     lol@mail.ru  2019-05-23T00:00:00Z           livejournal.com   \n",
       "\n",
       "                                          description  \n",
       "0   At an unconfirmed date, World of Warcraft fand...  \n",
       "1   In June 2020, the online writing community Wat...  \n",
       "2   In April 2018, Funny Games' Forums database wa...  \n",
       "3   In September 2019, the game developer Zynga wa...  \n",
       "4   At an unconfirmed date, the Russian social med...  \n",
       "5   In July 2018, Bookmate was allegedly breached....  \n",
       "6   In January 2019, Roll20 allegedly breached. Th...  \n",
       "7   At an unconfirmed date, the Russian advertisin...  \n",
       "8   At an unconfirmed date, World of Warcraft fand...  \n",
       "9   In January 2020, the Russian multiplayer video...  \n",
       "10  At an unconfirmed date, two Russian Minecraft ...  \n",
       "11  In December 2018, Dubsmash's database was alle...  \n",
       "12  At an unconfirmed date, Russian Minecraft serv...  \n",
       "13  In July 2019, the online comic creation site T...  \n",
       "14  In June 2020, the online writing community Wat...  \n",
       "15  At an unconfirmed date, the French-language on...  \n",
       "16  In June 2018, fast-fashion retailer Shein's da...  \n",
       "17  In July 2018, 8fit's database was allegedly br...  \n",
       "18  In September 2019, now-defunct game studio OMG...  \n",
       "19  At an unconfirmed date, Russian blog Tonnel.ru...  \n",
       "20  In May 2019, graphic-design site Canva's datab...  \n",
       "21  In January 2015, the online role-playing game ...  \n",
       "22  In June 2020, the online interior design servi...  \n",
       "23  At an unconfirmed date, Russian server hosting...  \n",
       "24  In January 2012, the MMORPG game Silkroad Onli...  \n",
       "25  At an unconfirmed date, the online MMOG game g...  \n",
       "26  In September 2019, the game developer Zynga wa...  \n",
       "27  At an unconfirmed date, this Food Services Com...  \n",
       "28  In November 2019, the Russian Minecraft server...  \n",
       "29  In November 2019, the Russian education portal...  \n",
       "30  In December 2019, the online mobile game GoGam...  \n",
       "31  At an unconfirmed date, the advertising revenu...  \n",
       "32  At an unconfirmed date, the Russian university...  \n",
       "33  At an unconfirmed date, the Russian social med...  \n",
       "34  In January 2020, the online math problem solvi...  \n",
       "35  At an unconfirmed date, Job and Talent's datab...  \n",
       "36  At an unconfirmed date, the Russian gaming soc...  \n",
       "37  At an unconfirmed date, the now-defunct Russia...  \n",
       "38  In July 2018, 500px's database was allegedly b...  \n",
       "39  In 2017, social network LiveJournal's database...  "
      ],
      "text/html": "<div>\n<style scoped>\n    .dataframe tbody tr th:only-of-type {\n        vertical-align: middle;\n    }\n\n    .dataframe tbody tr th {\n        vertical-align: top;\n    }\n\n    .dataframe thead th {\n        text-align: right;\n    }\n</style>\n<table border=\"1\" class=\"dataframe\">\n  <thead>\n    <tr style=\"text-align: right;\">\n      <th></th>\n      <th>email</th>\n      <th>date</th>\n      <th>origin</th>\n      <th>description</th>\n    </tr>\n  </thead>\n  <tbody>\n    <tr>\n      <th>0</th>\n      <td>lol@rambler.ru</td>\n      <td>2019-07-25T00:00:00Z</td>\n      <td>worldofwar.net</td>\n      <td>At an unconfirmed date, World of Warcraft fand...</td>\n    </tr>\n    <tr>\n      <th>1</th>\n      <td>lol@rambler.ru</td>\n      <td>2020-07-23T00:00:00Z</td>\n      <td>wattpad.com</td>\n      <td>In June 2020, the online writing community Wat...</td>\n    </tr>\n    <tr>\n      <th>2</th>\n      <td>lol@rambler.ru</td>\n      <td>2018-08-24T00:00:00Z</td>\n      <td>forums.funny-games.biz</td>\n      <td>In April 2018, Funny Games' Forums database wa...</td>\n    </tr>\n    <tr>\n      <th>3</th>\n      <td>lol@rambler.ru</td>\n      <td>2019-10-17T00:00:00Z</td>\n      <td>zynga.com</td>\n      <td>In September 2019, the game developer Zynga wa...</td>\n    </tr>\n    <tr>\n      <th>4</th>\n      <td>lol@rambler.ru</td>\n      <td>2020-04-09T00:00:00Z</td>\n      <td>vkmix.com</td>\n      <td>At an unconfirmed date, the Russian social med...</td>\n    </tr>\n    <tr>\n      <th>5</th>\n      <td>lol@mail.ru</td>\n      <td>2019-03-20T00:00:00Z</td>\n      <td>bookmate.com</td>\n      <td>In July 2018, Bookmate was allegedly breached....</td>\n    </tr>\n    <tr>\n      <th>6</th>\n      <td>lol@mail.ru</td>\n      <td>2019-03-20T00:00:00Z</td>\n      <td>roll20.net</td>\n      <td>In January 2019, Roll20 allegedly breached. Th...</td>\n    </tr>\n    <tr>\n      <th>7</th>\n      <td>lol@mail.ru</td>\n      <td>2020-08-27T00:00:00Z</td>\n      <td>plibber.ru</td>\n      <td>At an unconfirmed date, the Russian advertisin...</td>\n    </tr>\n    <tr>\n      <th>8</th>\n      <td>lol@mail.ru</td>\n      <td>2019-07-25T00:00:00Z</td>\n      <td>worldofwar.net</td>\n      <td>At an unconfirmed date, World of Warcraft fand...</td>\n    </tr>\n    <tr>\n      <th>9</th>\n      <td>lol@mail.ru</td>\n      <td>2020-05-28T00:00:00Z</td>\n      <td>stalker.so</td>\n      <td>In January 2020, the Russian multiplayer video...</td>\n    </tr>\n    <tr>\n      <th>10</th>\n      <td>lol@mail.ru</td>\n      <td>2019-10-10T00:00:00Z</td>\n      <td>ozonemc.ru</td>\n      <td>At an unconfirmed date, two Russian Minecraft ...</td>\n    </tr>\n    <tr>\n      <th>11</th>\n      <td>lol@mail.ru</td>\n      <td>2019-03-07T00:00:00Z</td>\n      <td>dubsmash.com</td>\n      <td>In December 2018, Dubsmash's database was alle...</td>\n    </tr>\n    <tr>\n      <th>12</th>\n      <td>lol@mail.ru</td>\n      <td>2019-08-08T00:00:00Z</td>\n      <td>borealis.su</td>\n      <td>At an unconfirmed date, Russian Minecraft serv...</td>\n    </tr>\n    <tr>\n      <th>13</th>\n      <td>lol@mail.ru</td>\n      <td>2019-11-14T00:00:00Z</td>\n      <td>toondo.com</td>\n      <td>In July 2019, the online comic creation site T...</td>\n    </tr>\n    <tr>\n      <th>14</th>\n      <td>lol@mail.ru</td>\n      <td>2020-07-23T00:00:00Z</td>\n      <td>wattpad.com</td>\n      <td>In June 2020, the online writing community Wat...</td>\n    </tr>\n    <tr>\n      <th>15</th>\n      <td>lol@mail.ru</td>\n      <td>2020-07-02T00:00:00Z</td>\n      <td>forums.freegame2017.com</td>\n      <td>At an unconfirmed date, the French-language on...</td>\n    </tr>\n    <tr>\n      <th>16</th>\n      <td>lol@mail.ru</td>\n      <td>2019-05-16T00:00:00Z</td>\n      <td>shein.com</td>\n      <td>In June 2018, fast-fashion retailer Shein's da...</td>\n    </tr>\n    <tr>\n      <th>17</th>\n      <td>lol@mail.ru</td>\n      <td>2019-02-28T00:00:00Z</td>\n      <td>8fit.com</td>\n      <td>In July 2018, 8fit's database was allegedly br...</td>\n    </tr>\n    <tr>\n      <th>18</th>\n      <td>lol@mail.ru</td>\n      <td>2019-10-17T00:00:00Z</td>\n      <td>omgpop.com</td>\n      <td>In September 2019, now-defunct game studio OMG...</td>\n    </tr>\n    <tr>\n      <th>19</th>\n      <td>lol@mail.ru</td>\n      <td>2019-09-12T00:00:00Z</td>\n      <td>tonnel.ru</td>\n      <td>At an unconfirmed date, Russian blog Tonnel.ru...</td>\n    </tr>\n    <tr>\n      <th>20</th>\n      <td>lol@mail.ru</td>\n      <td>2019-06-13T00:00:00Z</td>\n      <td>canva.com</td>\n      <td>In May 2019, graphic-design site Canva's datab...</td>\n    </tr>\n    <tr>\n      <th>21</th>\n      <td>lol@mail.ru</td>\n      <td>2020-02-06T00:00:00Z</td>\n      <td>cityofvillains.com</td>\n      <td>In January 2015, the online role-playing game ...</td>\n    </tr>\n    <tr>\n      <th>22</th>\n      <td>lol@mail.ru</td>\n      <td>2020-08-06T00:00:00Z</td>\n      <td>havenly.com</td>\n      <td>In June 2020, the online interior design servi...</td>\n    </tr>\n    <tr>\n      <th>23</th>\n      <td>lol@mail.ru</td>\n      <td>2019-08-08T00:00:00Z</td>\n      <td>firstvds.ru</td>\n      <td>At an unconfirmed date, Russian server hosting...</td>\n    </tr>\n    <tr>\n      <th>24</th>\n      <td>lol@mail.ru</td>\n      <td>2020-05-21T00:00:00Z</td>\n      <td>www.joymax.com/silkroad/</td>\n      <td>In January 2012, the MMORPG game Silkroad Onli...</td>\n    </tr>\n    <tr>\n      <th>25</th>\n      <td>lol@mail.ru</td>\n      <td>2020-01-03T00:00:00Z</td>\n      <td>rbx.rocks</td>\n      <td>At an unconfirmed date, the online MMOG game g...</td>\n    </tr>\n    <tr>\n      <th>26</th>\n      <td>lol@mail.ru</td>\n      <td>2019-10-17T00:00:00Z</td>\n      <td>zynga.com</td>\n      <td>In September 2019, the game developer Zynga wa...</td>\n    </tr>\n    <tr>\n      <th>27</th>\n      <td>lol@mail.ru</td>\n      <td>2020-06-25T00:00:00Z</td>\n      <td>n/a/</td>\n      <td>At an unconfirmed date, this Food Services Com...</td>\n    </tr>\n    <tr>\n      <th>28</th>\n      <td>lol@mail.ru</td>\n      <td>2020-01-16T00:00:00Z</td>\n      <td>cristalix.pe</td>\n      <td>In November 2019, the Russian Minecraft server...</td>\n    </tr>\n    <tr>\n      <th>29</th>\n      <td>lol@mail.ru</td>\n      <td>2020-01-16T00:00:00Z</td>\n      <td>proshkolu.ru</td>\n      <td>In November 2019, the Russian education portal...</td>\n    </tr>\n    <tr>\n      <th>30</th>\n      <td>lol@mail.ru</td>\n      <td>2020-01-16T00:00:00Z</td>\n      <td>gogames.me</td>\n      <td>In December 2019, the online mobile game GoGam...</td>\n    </tr>\n    <tr>\n      <th>31</th>\n      <td>lol@mail.ru</td>\n      <td>2020-04-30T00:00:00Z</td>\n      <td>payad.me</td>\n      <td>At an unconfirmed date, the advertising revenu...</td>\n    </tr>\n    <tr>\n      <th>32</th>\n      <td>lol@mail.ru</td>\n      <td>2020-07-16T00:00:00Z</td>\n      <td>synergyregions.ru</td>\n      <td>At an unconfirmed date, the Russian university...</td>\n    </tr>\n    <tr>\n      <th>33</th>\n      <td>lol@mail.ru</td>\n      <td>2020-04-09T00:00:00Z</td>\n      <td>vkmix.com</td>\n      <td>At an unconfirmed date, the Russian social med...</td>\n    </tr>\n    <tr>\n      <th>34</th>\n      <td>lol@mail.ru</td>\n      <td>2020-05-28T00:00:00Z</td>\n      <td>mathway.com</td>\n      <td>In January 2020, the online math problem solvi...</td>\n    </tr>\n    <tr>\n      <th>35</th>\n      <td>lol@mail.ru</td>\n      <td>2019-03-14T00:00:00Z</td>\n      <td>jobandtalent.com</td>\n      <td>At an unconfirmed date, Job and Talent's datab...</td>\n    </tr>\n    <tr>\n      <th>36</th>\n      <td>lol@mail.ru</td>\n      <td>2020-07-16T00:00:00Z</td>\n      <td>ongab.ru</td>\n      <td>At an unconfirmed date, the Russian gaming soc...</td>\n    </tr>\n    <tr>\n      <th>37</th>\n      <td>lol@mail.ru</td>\n      <td>2020-08-27T00:00:00Z</td>\n      <td>turistov.ru</td>\n      <td>At an unconfirmed date, the now-defunct Russia...</td>\n    </tr>\n    <tr>\n      <th>38</th>\n      <td>lol@mail.ru</td>\n      <td>2019-02-28T00:00:00Z</td>\n      <td>500px.com</td>\n      <td>In July 2018, 500px's database was allegedly b...</td>\n    </tr>\n    <tr>\n      <th>39</th>\n      <td>lol@mail.ru</td>\n      <td>2019-05-23T00:00:00Z</td>\n      <td>livejournal.com</td>\n      <td>In 2017, social network LiveJournal's database...</td>\n    </tr>\n  </tbody>\n</table>\n</div>"
     },
     "metadata": {},
     "execution_count": 22
    }
   ],
   "source": [
    "import json\n",
    "\n",
    "EMAIL = ['lol@rambler.ru', 'lol@mail.ru']\n",
    "\n",
    "url = 'https://identityprotection.avast.com/v1/web/query/site-breaches/unauthorized-data' # скрытый метод проверки на утечки\n",
    "params = {\n",
    "    'emailAddresses': EMAIL\n",
    "}\n",
    "headers = {\n",
    "    'Vaar-Version': '0', # необходимые заголовки для доступа к методу проверки почты на утечку\n",
    "    'Vaar-Header-App-Product': 'hackcheck-web-avast',\n",
    "    'Content-Type': 'application/json;charset=UTF-8',\n",
    "}\n",
    "\n",
    "res = requests.post(url, headers=headers,\n",
    "                    data=json.dumps(params, separators=(',', ':'))).json() # формат принимаемого JSON-объекта в методе проверки почты на утечку не поддерживает пробелы в разделителях, используемых по-умолчанию\n",
    "df = pd.DataFrame(columns=['email', 'date', 'origin', 'description'])\n",
    "for email in res['summary']:\n",
    "    for breach in res['summary'][email]['breaches']:\n",
    "        df = df.append({'email': email,\n",
    "                        'date': res['breaches'][str(breach)]['publishDate'],\n",
    "                        'origin': res['breaches'][str(breach)]['site'],\n",
    "                        'description': res['breaches'][str(breach)]['description']},\n",
    "                       ignore_index=True)\n",
    "df"
   ]
  }
 ]
}