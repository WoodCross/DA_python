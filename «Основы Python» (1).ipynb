{
 "cells": [
  {
   "cell_type": "markdown",
   "metadata": {},
   "source": [
    "Задание 1"
   ]
  },
  {
   "cell_type": "code",
   "execution_count": 7,
   "metadata": {},
   "outputs": [
    {
     "name": "stdout",
     "output_type": "stream",
     "text": [
      "Фраза 1 длиннее фразы 2\n"
     ]
    }
   ],
   "source": [
    "phrase_1 = 'Невероятно бурное, сложное, проблематичное начало XXI века!'\n",
    "phrase_2 = 'Как выжить в нем, оставаясь Человеком?'\n",
    "if len(phrase_1) > len(phrase_2):\n",
    "    print('Фраза 1 длиннее фразы 2')\n",
    "elif len(phrase_1) < len(phrase_2):\n",
    "        print('Фраза 1 короче фразы 2')"
   ]
  },
  {
   "cell_type": "code",
   "execution_count": 8,
   "metadata": {},
   "outputs": [
    {
     "name": "stdout",
     "output_type": "stream",
     "text": [
      "Фраза 1 короче фразы 2\n"
     ]
    }
   ],
   "source": [
    "phrase_1 = 'Как найти себя?'\n",
    "phrase_2 = 'Как перестать беспокоиться и начать жить?'\n",
    "if len(phrase_1) > len(phrase_2):\n",
    "    print('Фраза 1 длиннее фразы 2')\n",
    "elif len(phrase_1) < len(phrase_2):\n",
    "        print('Фраза 1 короче фразы 2')"
   ]
  },
  {
   "cell_type": "code",
   "execution_count": 10,
   "metadata": {},
   "outputs": [
    {
     "name": "stdout",
     "output_type": "stream",
     "text": [
      "Фразы равной длинны\n"
     ]
    }
   ],
   "source": [
    "phrase_1 = 'Как найти себя?'\n",
    "phrase_2 = 'Как сказать да?'\n",
    "if len(phrase_1) > len(phrase_2):\n",
    "    print('Фраза 1 длиннее фразы 2')\n",
    "elif len(phrase_1) < len(phrase_2):\n",
    "        print('Фраза 1 короче фразы 2')\n",
    "elif len(phrase_1) == len(phrase_2):\n",
    "        print('Фразы равной длинны')"
   ]
  },
  {
   "cell_type": "markdown",
   "metadata": {},
   "source": [
    "Задание 2"
   ]
  },
  {
   "cell_type": "code",
   "execution_count": 19,
   "metadata": {},
   "outputs": [
    {
     "name": "stdout",
     "output_type": "stream",
     "text": [
      "2016 - Високосный год\n"
     ]
    }
   ],
   "source": [
    "x = 2016\n",
    "if x % 4 == 0:\n",
    "    print (x, '- Високосный год')\n",
    "else:\n",
    "    print (x, '- Обычный год')"
   ]
  },
  {
   "cell_type": "code",
   "execution_count": 20,
   "metadata": {},
   "outputs": [
    {
     "name": "stdout",
     "output_type": "stream",
     "text": [
      "2009 - Обычный год\n"
     ]
    }
   ],
   "source": [
    "x = 2009\n",
    "if x % 4 == 0:\n",
    "    print (x, '- Високосный год')\n",
    "else:\n",
    "    print (x, '- Обычный год')"
   ]
  },
  {
   "cell_type": "markdown",
   "metadata": {},
   "source": [
    "Задание 3"
   ]
  },
  {
   "cell_type": "code",
   "execution_count": 1,
   "metadata": {},
   "outputs": [
    {
     "name": "stdout",
     "output_type": "stream",
     "text": [
      "Введите день рождения: 28\n",
      "Введите месяц рождения: 8\n",
      "Ваш знак зодиака: Дева\n"
     ]
    }
   ],
   "source": [
    "user_day = 0\n",
    "user_month = \"\"\n",
    "while not user_day:\n",
    "    try:\n",
    "        user_day = int(input('Введите день рождения: '))\n",
    "    except ValueError as e:\n",
    "        print(\"День введен неправильно, повторите ввод\")\n",
    "while not user_month:\n",
    "    try:\n",
    "        user_month = int(input('Введите месяц рождения: '))\n",
    "    except ValueError:\n",
    "        print(\"Месяц введен неправильно, повторите ввод\")\n",
    "if 1 > user_month > 12 :\n",
    "    print('Месяц введен неправильно')\n",
    "elif 1 > user_day > 31 :\n",
    "    print('День введен неправильно')\n",
    "elif (user_month == 3 and 21 <= user_day <= 31) or (user_month == 4 and 1 <= user_day <= 20) :\n",
    "    print('Ваш знак зодиака: Овен')\n",
    "elif (user_month == 4 and 21 <= user_day <= 30) or (user_month == 5 and 1 <= user_day <= 21):\n",
    "    print('Ваш знак зодиака: Телец')\n",
    "elif (user_month == 5 and 22 <= user_day <= 31) or (user_month == 6 and 1 <= user_day <= 21):\n",
    "    print('Ваш знак зодиака: Близнецы')\n",
    "elif (user_month == 6 and 22 <= user_day <= 30) or (user_month == 7 and 1 <= user_day <= 22):\n",
    "    print('Ваш знак зодиака: Рак')\n",
    "elif (user_month == 7 and 23 <= user_day <= 31) or (user_month == 8 and 1 <= user_day <= 23):\n",
    "    print('Ваш знак зодиака: Лев')\n",
    "elif (user_month == 8 and 24 <= user_day <= 31) or (user_month == 9 and 1 <= user_day <= 23):\n",
    "    print('Ваш знак зодиака: Дева')\n",
    "elif (user_month == 9 and 24 <= user_day <= 30) or (user_month == 10 and 1 <= user_day <= 23):\n",
    "    print('Ваш знак зодиака: Весы')\n",
    "elif (user_month == 10 and 24 <= user_day <= 31) or (user_month == 11 and 1 <= user_day <= 22):\n",
    "    print('Ваш знак зодиака: Скорпион')\n",
    "elif (user_month == 11 and 23 <= user_day <= 30) or (user_month == 12 and 1 <= user_day <= 22):\n",
    "    print('Ваш знак зодиака: Стрелец')\n",
    "elif (user_month == 12 and 23 <= user_day <= 31) or (user_month == 1 and 1 <= user_day <= 20):\n",
    "    print('Ваш знак зодиака: Козерог')\n",
    "elif (user_month == 1 and 21 <= user_day <= 31) or (user_month == 2 and 1 <= user_day <= 19):\n",
    "    print('Ваш знак зодиака: Водолей')\n",
    "elif (user_month == 2 and 20 <= user_day <= 28) or (user_month == 3 and 1 <= user_day <= 20):\n",
    "    print('Ваш знак зодиака: Рыбы')"
   ]
  },
  {
   "cell_type": "markdown",
   "metadata": {},
   "source": [
    "Задание 4"
   ]
  },
  {
   "cell_type": "code",
   "execution_count": 25,
   "metadata": {},
   "outputs": [
    {
     "name": "stdout",
     "output_type": "stream",
     "text": [
      "Упаковка для лыж\n"
     ]
    }
   ],
   "source": [
    "width = 10\n",
    "length = 205\n",
    "height = 5\n",
    "if width < 10 and length < 205 and height < 5:\n",
    "    print ('Коробка №1')\n",
    "elif 15 < width < 50 or 15 < length < 50 or 15 < height < 50:\n",
    "    print ('Коробка №2')\n",
    "elif length > 200:\n",
    "    print ('Упаковка для лыж')\n",
    "else:\n",
    "    print('Стандартная коробка №3')"
   ]
  },
  {
   "cell_type": "code",
   "execution_count": null,
   "metadata": {},
   "outputs": [],
   "source": [
    "width = 14\n",
    "length = 10\n",
    "height = 11\n",
    "if width < 15 and length < 15 and height < 15:\n",
    "    print ('Коробка №1')\n",
    "elif 15 < width < 50 or 15 < length < 50 or 15 < height < 50:\n",
    "    print ('Коробка №2')\n",
    "elif length > 200:\n",
    "    print ('Упаковка для лыж')\n",
    "else:\n",
    "    print('Стандартная коробка №3')"
   ]
  },
  {
   "cell_type": "code",
   "execution_count": 29,
   "metadata": {},
   "outputs": [
    {
     "name": "stdout",
     "output_type": "stream",
     "text": [
      "Коробка №2\n"
     ]
    }
   ],
   "source": [
    "width = 20\n",
    "length = 60\n",
    "height = 16\n",
    "if width < 15 and length < 15 and height < 15:\n",
    "    print ('Коробка №1')\n",
    "elif 15 < width < 50 or 15 < length < 50 or 15 < height < 50:\n",
    "    print ('Коробка №2')\n",
    "elif length > 200:\n",
    "    print ('Упаковка для лыж')\n",
    "else:\n",
    "    print('Стандартная коробка №3')"
   ]
  },
  {
   "cell_type": "code",
   "execution_count": 32,
   "metadata": {},
   "outputs": [
    {
     "name": "stdout",
     "output_type": "stream",
     "text": [
      "Стандартная коробка №3\n"
     ]
    }
   ],
   "source": [
    "width = 14\n",
    "length = 60\n",
    "height = 11\n",
    "if width < 15 and length < 15 and height < 15:\n",
    "    print ('Коробка №1')\n",
    "elif 15 < width < 50 or 15 < length < 50 or 15 < height < 50:\n",
    "    print ('Коробка №2')\n",
    "elif length > 200:\n",
    "    print ('Упаковка для лыж')\n",
    "else:\n",
    "    print('Стандартная коробка №3')"
   ]
  },
  {
   "cell_type": "code",
   "execution_count": null,
   "metadata": {},
   "outputs": [],
   "source": []
  }
 ],
 "metadata": {
  "kernelspec": {
   "display_name": "Python 3",
   "language": "python",
   "name": "python3"
  },
  "language_info": {
   "codemirror_mode": {
    "name": "ipython",
    "version": 3
   },
   "file_extension": ".py",
   "mimetype": "text/x-python",
   "name": "python",
   "nbconvert_exporter": "python",
   "pygments_lexer": "ipython3",
   "version": "3.8.3"
  }
 },
 "nbformat": 4,
 "nbformat_minor": 4
}
